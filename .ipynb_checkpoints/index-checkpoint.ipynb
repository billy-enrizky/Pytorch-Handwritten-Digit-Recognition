{
 "cells": [
  {
   "cell_type": "markdown",
   "id": "887015fe-378c-4ee5-976b-e8ae7ec00ff7",
   "metadata": {},
   "source": [
    "# Handwritten Digit Recognition"
   ]
  },
  {
   "cell_type": "markdown",
   "id": "48b0780a-3141-409a-9561-48ee89a0c23e",
   "metadata": {},
   "source": [
    "## Setting up and Importing the Dataset"
   ]
  },
  {
   "cell_type": "code",
   "execution_count": 18,
   "id": "b48cd92b-c4ec-4d48-8b8c-558662215d24",
   "metadata": {},
   "outputs": [],
   "source": [
    "from torchvision import datasets\n",
    "from torchvision.transforms import ToTensor\n",
    "# Ignore deprecated warnings\n",
    "import warnings\n",
    "warnings.filterwarnings(\"ignore\", category=UserWarning)"
   ]
  },
  {
   "cell_type": "code",
   "execution_count": 19,
   "id": "c66fe710-2d62-41db-a41c-dafd6d4e5afe",
   "metadata": {},
   "outputs": [],
   "source": [
    "train_data = datasets.MNIST(\n",
    "    root = 'data',\n",
    "    train = True,\n",
    "    transform = ToTensor(),\n",
    "    download = True\n",
    ")\n",
    "\n",
    "test_data = datasets.MNIST(\n",
    "    root = 'data',\n",
    "    train = False,\n",
    "    transform = ToTensor(),\n",
    "    download = True\n",
    ")"
   ]
  },
  {
   "cell_type": "markdown",
   "id": "fe458414-7618-4ac0-9d8e-721f837fa739",
   "metadata": {},
   "source": [
    "## Analyzing and Exploring the Data"
   ]
  },
  {
   "cell_type": "markdown",
   "id": "f95c559b-b8e1-4867-993a-d4c6a807e0a2",
   "metadata": {},
   "source": [
    "### Training Data"
   ]
  },
  {
   "cell_type": "code",
   "execution_count": 20,
   "id": "73d6afdd-8712-4370-9479-b7c4072d7cb7",
   "metadata": {},
   "outputs": [
    {
     "data": {
      "text/plain": [
       "Dataset MNIST\n",
       "    Number of datapoints: 60000\n",
       "    Root location: data\n",
       "    Split: Train\n",
       "    StandardTransform\n",
       "Transform: ToTensor()"
      ]
     },
     "execution_count": 20,
     "metadata": {},
     "output_type": "execute_result"
    }
   ],
   "source": [
    "train_data"
   ]
  },
  {
   "cell_type": "markdown",
   "id": "f3602824-becb-4a16-a363-ade4f22afe70",
   "metadata": {},
   "source": [
    "### Testing_data"
   ]
  },
  {
   "cell_type": "code",
   "execution_count": 21,
   "id": "e53090af-542c-4c5a-b6ef-e565f98b7fe1",
   "metadata": {},
   "outputs": [
    {
     "data": {
      "text/plain": [
       "Dataset MNIST\n",
       "    Number of datapoints: 10000\n",
       "    Root location: data\n",
       "    Split: Test\n",
       "    StandardTransform\n",
       "Transform: ToTensor()"
      ]
     },
     "execution_count": 21,
     "metadata": {},
     "output_type": "execute_result"
    }
   ],
   "source": [
    "test_data"
   ]
  },
  {
   "cell_type": "markdown",
   "id": "524e5ed9-aead-4a78-889e-55f67952fad0",
   "metadata": {},
   "source": [
    "### Dataset Shape and Size"
   ]
  },
  {
   "cell_type": "code",
   "execution_count": 22,
   "id": "ef37340f-9bee-4494-b0c4-100b146766ee",
   "metadata": {},
   "outputs": [
    {
     "data": {
      "text/plain": [
       "torch.Size([60000, 28, 28])"
      ]
     },
     "execution_count": 22,
     "metadata": {},
     "output_type": "execute_result"
    }
   ],
   "source": [
    "train_data.data.shape"
   ]
  },
  {
   "cell_type": "code",
   "execution_count": 23,
   "id": "898fb260-146b-4e7b-8438-db63dc3ca54e",
   "metadata": {},
   "outputs": [
    {
     "data": {
      "text/plain": [
       "torch.Size([10000, 28, 28])"
      ]
     },
     "execution_count": 23,
     "metadata": {},
     "output_type": "execute_result"
    }
   ],
   "source": [
    "test_data.data.shape"
   ]
  },
  {
   "cell_type": "code",
   "execution_count": 24,
   "id": "b72a4698-b3aa-4aa7-8d8a-6d121a0650cf",
   "metadata": {},
   "outputs": [
    {
     "data": {
      "text/plain": [
       "torch.Size([60000])"
      ]
     },
     "execution_count": 24,
     "metadata": {},
     "output_type": "execute_result"
    }
   ],
   "source": [
    "train_data.targets.shape"
   ]
  },
  {
   "cell_type": "code",
   "execution_count": 25,
   "id": "88725e49-1f50-45d5-840a-478b7f466226",
   "metadata": {},
   "outputs": [
    {
     "data": {
      "text/plain": [
       "tensor([5, 0, 4,  ..., 5, 6, 8])"
      ]
     },
     "execution_count": 25,
     "metadata": {},
     "output_type": "execute_result"
    }
   ],
   "source": [
    "train_data.targets"
   ]
  },
  {
   "cell_type": "markdown",
   "id": "e6a23232-85ba-4efa-9924-f0870781b678",
   "metadata": {},
   "source": [
    "## Creating Data Loader"
   ]
  },
  {
   "cell_type": "code",
   "execution_count": 26,
   "id": "3a5e7de4-4e33-489e-a565-76c1d361a8ad",
   "metadata": {},
   "outputs": [],
   "source": [
    "from torch.utils.data import DataLoader\n",
    "\n",
    "loaders = {\n",
    "    'train' : DataLoader(train_data,\n",
    "                         batch_size=100,\n",
    "                         shuffle=True,\n",
    "                         num_workers=1),\n",
    "    'test' : DataLoader(test_data,\n",
    "                        batch_size=100,\n",
    "                        shuffle=True,\n",
    "                        num_workers=1)\n",
    "}"
   ]
  },
  {
   "cell_type": "code",
   "execution_count": 27,
   "id": "bba667e7-def1-4d15-8a68-853ceb71892d",
   "metadata": {},
   "outputs": [
    {
     "data": {
      "text/plain": [
       "{'train': <torch.utils.data.dataloader.DataLoader at 0x1fd76b9ab50>,\n",
       " 'test': <torch.utils.data.dataloader.DataLoader at 0x1fd76ae8e10>}"
      ]
     },
     "execution_count": 27,
     "metadata": {},
     "output_type": "execute_result"
    }
   ],
   "source": [
    "loaders"
   ]
  },
  {
   "cell_type": "markdown",
   "id": "608f3a8d-b228-4805-81fd-a6e8673b981d",
   "metadata": {},
   "source": [
    "## Creating the Machine Learning Model"
   ]
  },
  {
   "cell_type": "code",
   "execution_count": 7,
   "id": "bb0dee3b-8485-4605-b814-f200bad1532e",
   "metadata": {},
   "outputs": [],
   "source": [
    "import torch.nn as nn\n",
    "import torch.nn.functional as F\n",
    "import torch.optim as optim"
   ]
  },
  {
   "cell_type": "code",
   "execution_count": 8,
   "id": "219bb8d6-5ec5-49a0-b172-c090ec3fe610",
   "metadata": {},
   "outputs": [],
   "source": [
    "class CNN(nn.Module):\n",
    "\n",
    "    def __init__(self):\n",
    "        super(CNN, self).__init__()\n",
    "        \n",
    "        self.conv1 = nn.Conv2d(1, 10, kernel_size=5)\n",
    "        self.conv2 = nn.Conv2d(10, 20, kernel_size=5)\n",
    "        self.conv2_drop = nn.Dropout2d()\n",
    "        self.fc1 = nn.Linear(320, 50)\n",
    "        self.fc2 = nn.Linear(50, 10)\n",
    "\n",
    "    def forward(self, x):\n",
    "        x = F.relu(F.max_pool2d(self.conv1(x), 2))\n",
    "        x = F.relu(F.max_pool2d(self.conv2_drop(self.conv2(x)), 2))\n",
    "        x = x.view(-1, 320)\n",
    "        x = F.relu(self.fc1(x))\n",
    "        x = F.dropout(x, training=self.training)\n",
    "        x = self.fc2(x)\n",
    "\n",
    "        return F.softmax(x)   "
   ]
  },
  {
   "cell_type": "markdown",
   "id": "e04987a4-7803-4e9f-9e42-8730ab90732b",
   "metadata": {},
   "source": [
    "## Optimizing the Machine Learning Model using CUDA"
   ]
  },
  {
   "cell_type": "code",
   "execution_count": 13,
   "id": "ee66ba8c-b19f-46c4-a1fa-469ad1ca6755",
   "metadata": {},
   "outputs": [],
   "source": [
    "import torch\n",
    "device = torch.device('cuda' if torch.cuda.is_available() else 'cpu')\n",
    "model = CNN().to(device)\n",
    "optimizer = optim.Adam(model.parameters(), lr=0.001)\n",
    "loss_fn = nn.CrossEntropyLoss()"
   ]
  },
  {
   "cell_type": "markdown",
   "id": "c75a65db-e00e-440b-b25e-cc0cdaa37201",
   "metadata": {},
   "source": [
    "## Creating the Dataset Training Mode"
   ]
  },
  {
   "cell_type": "code",
   "execution_count": 9,
   "id": "34ba35af-f3aa-4222-b294-d1c77386e078",
   "metadata": {},
   "outputs": [],
   "source": [
    "def train(epoch):\n",
    "    model.train()\n",
    "    for batch_idx, (data, target) in enumerate(loaders['train']):\n",
    "        data, target = data.to(device), target.to(device)\n",
    "        optimizer.zero_grad()\n",
    "        output = model(data)\n",
    "        loss = loss_fn(output, target)\n",
    "        loss.backward()\n",
    "        optimizer.step()\n",
    "        if batch_idx % 20 == 0:\n",
    "            print(f\"Train Epoch: {epoch} [{batch_idx * len(data)} / {len(loaders['train'].dataset)} ({100 * batch_idx / len(loaders['train']):0f}%)]\\t{loss.item():.6f}\")"
   ]
  },
  {
   "cell_type": "markdown",
   "id": "1f77e86f-679b-4e69-ae42-a12862682395",
   "metadata": {},
   "source": [
    "## Creating the Dataset Testing Mode"
   ]
  },
  {
   "cell_type": "code",
   "execution_count": 10,
   "id": "9c1c7f9a-ef83-4618-a2f3-61e4491c25d8",
   "metadata": {},
   "outputs": [],
   "source": [
    "def test():\n",
    "    model.eval()\n",
    "    test_loss = 0\n",
    "    correct = 0\n",
    "    with torch.no_grad():\n",
    "        for data, target in loaders['test']:\n",
    "            data, target = data.to(device), target.to(device)\n",
    "            output = model(data)\n",
    "            test_loss += loss_fn(output, target).item()\n",
    "            pred = output.argmax(dim=1, keepdim=True)\n",
    "            correct += pred.eq(target.view_as(pred)).sum().item()\n",
    "    test_loss /= len(loaders['test'].dataset)\n",
    "    print(f\"\\nTest set: Average loss: {test_loss: 0.4f}, Accuracy {correct}/{len(loaders['test'].dataset)}  ({100 * correct / len(loaders['test'].dataset):.0f}%\\n)\")"
   ]
  },
  {
   "cell_type": "markdown",
   "id": "c9c698a9-8c22-45a4-a9b3-2df3e0c0c72c",
   "metadata": {},
   "source": [
    "## Starting the Dataset Training Process"
   ]
  },
  {
   "cell_type": "code",
   "execution_count": 11,
   "id": "5f0e917d-af99-48c0-a46c-8e3304451bca",
   "metadata": {},
   "outputs": [
    {
     "name": "stdout",
     "output_type": "stream",
     "text": [
      "Train Epoch: 1 [0 / 60000 (0.000000%)]\t2.301841\n",
      "Train Epoch: 1 [2000 / 60000 (3.333333%)]\t2.274343\n",
      "Train Epoch: 1 [4000 / 60000 (6.666667%)]\t2.150111\n",
      "Train Epoch: 1 [6000 / 60000 (10.000000%)]\t1.894629\n",
      "Train Epoch: 1 [8000 / 60000 (13.333333%)]\t1.918074\n",
      "Train Epoch: 1 [10000 / 60000 (16.666667%)]\t1.861509\n",
      "Train Epoch: 1 [12000 / 60000 (20.000000%)]\t1.808509\n",
      "Train Epoch: 1 [14000 / 60000 (23.333333%)]\t1.750532\n",
      "Train Epoch: 1 [16000 / 60000 (26.666667%)]\t1.721304\n",
      "Train Epoch: 1 [18000 / 60000 (30.000000%)]\t1.810801\n",
      "Train Epoch: 1 [20000 / 60000 (33.333333%)]\t1.732878\n",
      "Train Epoch: 1 [22000 / 60000 (36.666667%)]\t1.721307\n",
      "Train Epoch: 1 [24000 / 60000 (40.000000%)]\t1.659774\n",
      "Train Epoch: 1 [26000 / 60000 (43.333333%)]\t1.720139\n",
      "Train Epoch: 1 [28000 / 60000 (46.666667%)]\t1.699332\n",
      "Train Epoch: 1 [30000 / 60000 (50.000000%)]\t1.657852\n",
      "Train Epoch: 1 [32000 / 60000 (53.333333%)]\t1.651374\n",
      "Train Epoch: 1 [34000 / 60000 (56.666667%)]\t1.613106\n",
      "Train Epoch: 1 [36000 / 60000 (60.000000%)]\t1.624659\n",
      "Train Epoch: 1 [38000 / 60000 (63.333333%)]\t1.647824\n",
      "Train Epoch: 1 [40000 / 60000 (66.666667%)]\t1.587270\n",
      "Train Epoch: 1 [42000 / 60000 (70.000000%)]\t1.601786\n",
      "Train Epoch: 1 [44000 / 60000 (73.333333%)]\t1.634380\n",
      "Train Epoch: 1 [46000 / 60000 (76.666667%)]\t1.558119\n",
      "Train Epoch: 1 [48000 / 60000 (80.000000%)]\t1.593871\n",
      "Train Epoch: 1 [50000 / 60000 (83.333333%)]\t1.610301\n",
      "Train Epoch: 1 [52000 / 60000 (86.666667%)]\t1.615041\n",
      "Train Epoch: 1 [54000 / 60000 (90.000000%)]\t1.596185\n",
      "Train Epoch: 1 [56000 / 60000 (93.333333%)]\t1.599587\n",
      "Train Epoch: 1 [58000 / 60000 (96.666667%)]\t1.571201\n",
      "\n",
      "Test set: Average loss:  0.0153, Accuracy 9298/10000  (93%\n",
      ")\n",
      "Train Epoch: 2 [0 / 60000 (0.000000%)]\t1.607194\n",
      "Train Epoch: 2 [2000 / 60000 (3.333333%)]\t1.662914\n",
      "Train Epoch: 2 [4000 / 60000 (6.666667%)]\t1.614508\n",
      "Train Epoch: 2 [6000 / 60000 (10.000000%)]\t1.612700\n",
      "Train Epoch: 2 [8000 / 60000 (13.333333%)]\t1.595702\n",
      "Train Epoch: 2 [10000 / 60000 (16.666667%)]\t1.599349\n",
      "Train Epoch: 2 [12000 / 60000 (20.000000%)]\t1.658440\n",
      "Train Epoch: 2 [14000 / 60000 (23.333333%)]\t1.584634\n",
      "Train Epoch: 2 [16000 / 60000 (26.666667%)]\t1.601548\n",
      "Train Epoch: 2 [18000 / 60000 (30.000000%)]\t1.642206\n",
      "Train Epoch: 2 [20000 / 60000 (33.333333%)]\t1.584243\n",
      "Train Epoch: 2 [22000 / 60000 (36.666667%)]\t1.573113\n",
      "Train Epoch: 2 [24000 / 60000 (40.000000%)]\t1.556588\n",
      "Train Epoch: 2 [26000 / 60000 (43.333333%)]\t1.629764\n",
      "Train Epoch: 2 [28000 / 60000 (46.666667%)]\t1.620190\n",
      "Train Epoch: 2 [30000 / 60000 (50.000000%)]\t1.639776\n",
      "Train Epoch: 2 [32000 / 60000 (53.333333%)]\t1.610432\n",
      "Train Epoch: 2 [34000 / 60000 (56.666667%)]\t1.562992\n",
      "Train Epoch: 2 [36000 / 60000 (60.000000%)]\t1.560099\n",
      "Train Epoch: 2 [38000 / 60000 (63.333333%)]\t1.592600\n",
      "Train Epoch: 2 [40000 / 60000 (66.666667%)]\t1.635908\n",
      "Train Epoch: 2 [42000 / 60000 (70.000000%)]\t1.555890\n",
      "Train Epoch: 2 [44000 / 60000 (73.333333%)]\t1.555496\n",
      "Train Epoch: 2 [46000 / 60000 (76.666667%)]\t1.563542\n",
      "Train Epoch: 2 [48000 / 60000 (80.000000%)]\t1.584514\n",
      "Train Epoch: 2 [50000 / 60000 (83.333333%)]\t1.572039\n",
      "Train Epoch: 2 [52000 / 60000 (86.666667%)]\t1.574286\n",
      "Train Epoch: 2 [54000 / 60000 (90.000000%)]\t1.544722\n",
      "Train Epoch: 2 [56000 / 60000 (93.333333%)]\t1.623609\n",
      "Train Epoch: 2 [58000 / 60000 (96.666667%)]\t1.598902\n",
      "\n",
      "Test set: Average loss:  0.0152, Accuracy 9456/10000  (95%\n",
      ")\n",
      "Train Epoch: 3 [0 / 60000 (0.000000%)]\t1.559133\n",
      "Train Epoch: 3 [2000 / 60000 (3.333333%)]\t1.566936\n",
      "Train Epoch: 3 [4000 / 60000 (6.666667%)]\t1.542688\n",
      "Train Epoch: 3 [6000 / 60000 (10.000000%)]\t1.584717\n",
      "Train Epoch: 3 [8000 / 60000 (13.333333%)]\t1.560340\n",
      "Train Epoch: 3 [10000 / 60000 (16.666667%)]\t1.615024\n",
      "Train Epoch: 3 [12000 / 60000 (20.000000%)]\t1.527634\n",
      "Train Epoch: 3 [14000 / 60000 (23.333333%)]\t1.583090\n",
      "Train Epoch: 3 [16000 / 60000 (26.666667%)]\t1.580605\n",
      "Train Epoch: 3 [18000 / 60000 (30.000000%)]\t1.534194\n",
      "Train Epoch: 3 [20000 / 60000 (33.333333%)]\t1.558531\n",
      "Train Epoch: 3 [22000 / 60000 (36.666667%)]\t1.556121\n",
      "Train Epoch: 3 [24000 / 60000 (40.000000%)]\t1.600096\n",
      "Train Epoch: 3 [26000 / 60000 (43.333333%)]\t1.519033\n",
      "Train Epoch: 3 [28000 / 60000 (46.666667%)]\t1.593972\n",
      "Train Epoch: 3 [30000 / 60000 (50.000000%)]\t1.595313\n",
      "Train Epoch: 3 [32000 / 60000 (53.333333%)]\t1.604753\n",
      "Train Epoch: 3 [34000 / 60000 (56.666667%)]\t1.627730\n",
      "Train Epoch: 3 [36000 / 60000 (60.000000%)]\t1.547768\n",
      "Train Epoch: 3 [38000 / 60000 (63.333333%)]\t1.564826\n",
      "Train Epoch: 3 [40000 / 60000 (66.666667%)]\t1.524337\n",
      "Train Epoch: 3 [42000 / 60000 (70.000000%)]\t1.578251\n",
      "Train Epoch: 3 [44000 / 60000 (73.333333%)]\t1.571880\n",
      "Train Epoch: 3 [46000 / 60000 (76.666667%)]\t1.576959\n",
      "Train Epoch: 3 [48000 / 60000 (80.000000%)]\t1.554442\n",
      "Train Epoch: 3 [50000 / 60000 (83.333333%)]\t1.603491\n",
      "Train Epoch: 3 [52000 / 60000 (86.666667%)]\t1.575035\n",
      "Train Epoch: 3 [54000 / 60000 (90.000000%)]\t1.559884\n",
      "Train Epoch: 3 [56000 / 60000 (93.333333%)]\t1.590148\n",
      "Train Epoch: 3 [58000 / 60000 (96.666667%)]\t1.591460\n",
      "\n",
      "Test set: Average loss:  0.0151, Accuracy 9547/10000  (95%\n",
      ")\n",
      "Train Epoch: 4 [0 / 60000 (0.000000%)]\t1.578884\n",
      "Train Epoch: 4 [2000 / 60000 (3.333333%)]\t1.542308\n",
      "Train Epoch: 4 [4000 / 60000 (6.666667%)]\t1.552622\n",
      "Train Epoch: 4 [6000 / 60000 (10.000000%)]\t1.568560\n",
      "Train Epoch: 4 [8000 / 60000 (13.333333%)]\t1.562342\n",
      "Train Epoch: 4 [10000 / 60000 (16.666667%)]\t1.541924\n",
      "Train Epoch: 4 [12000 / 60000 (20.000000%)]\t1.496546\n",
      "Train Epoch: 4 [14000 / 60000 (23.333333%)]\t1.583178\n",
      "Train Epoch: 4 [16000 / 60000 (26.666667%)]\t1.531532\n",
      "Train Epoch: 4 [18000 / 60000 (30.000000%)]\t1.553571\n",
      "Train Epoch: 4 [20000 / 60000 (33.333333%)]\t1.571328\n",
      "Train Epoch: 4 [22000 / 60000 (36.666667%)]\t1.542505\n",
      "Train Epoch: 4 [24000 / 60000 (40.000000%)]\t1.533556\n",
      "Train Epoch: 4 [26000 / 60000 (43.333333%)]\t1.562570\n",
      "Train Epoch: 4 [28000 / 60000 (46.666667%)]\t1.551157\n",
      "Train Epoch: 4 [30000 / 60000 (50.000000%)]\t1.536841\n",
      "Train Epoch: 4 [32000 / 60000 (53.333333%)]\t1.550102\n",
      "Train Epoch: 4 [34000 / 60000 (56.666667%)]\t1.554196\n",
      "Train Epoch: 4 [36000 / 60000 (60.000000%)]\t1.539078\n",
      "Train Epoch: 4 [38000 / 60000 (63.333333%)]\t1.599929\n",
      "Train Epoch: 4 [40000 / 60000 (66.666667%)]\t1.520968\n",
      "Train Epoch: 4 [42000 / 60000 (70.000000%)]\t1.583865\n",
      "Train Epoch: 4 [44000 / 60000 (73.333333%)]\t1.528214\n",
      "Train Epoch: 4 [46000 / 60000 (76.666667%)]\t1.559344\n",
      "Train Epoch: 4 [48000 / 60000 (80.000000%)]\t1.503348\n",
      "Train Epoch: 4 [50000 / 60000 (83.333333%)]\t1.572230\n",
      "Train Epoch: 4 [52000 / 60000 (86.666667%)]\t1.526174\n",
      "Train Epoch: 4 [54000 / 60000 (90.000000%)]\t1.549716\n",
      "Train Epoch: 4 [56000 / 60000 (93.333333%)]\t1.535561\n",
      "Train Epoch: 4 [58000 / 60000 (96.666667%)]\t1.528658\n",
      "\n",
      "Test set: Average loss:  0.0150, Accuracy 9586/10000  (96%\n",
      ")\n",
      "Train Epoch: 5 [0 / 60000 (0.000000%)]\t1.512130\n",
      "Train Epoch: 5 [2000 / 60000 (3.333333%)]\t1.591179\n",
      "Train Epoch: 5 [4000 / 60000 (6.666667%)]\t1.543828\n",
      "Train Epoch: 5 [6000 / 60000 (10.000000%)]\t1.619076\n",
      "Train Epoch: 5 [8000 / 60000 (13.333333%)]\t1.530102\n",
      "Train Epoch: 5 [10000 / 60000 (16.666667%)]\t1.571528\n",
      "Train Epoch: 5 [12000 / 60000 (20.000000%)]\t1.559158\n",
      "Train Epoch: 5 [14000 / 60000 (23.333333%)]\t1.533936\n",
      "Train Epoch: 5 [16000 / 60000 (26.666667%)]\t1.537192\n",
      "Train Epoch: 5 [18000 / 60000 (30.000000%)]\t1.551685\n",
      "Train Epoch: 5 [20000 / 60000 (33.333333%)]\t1.565472\n",
      "Train Epoch: 5 [22000 / 60000 (36.666667%)]\t1.566289\n",
      "Train Epoch: 5 [24000 / 60000 (40.000000%)]\t1.526582\n",
      "Train Epoch: 5 [26000 / 60000 (43.333333%)]\t1.488762\n",
      "Train Epoch: 5 [28000 / 60000 (46.666667%)]\t1.574537\n",
      "Train Epoch: 5 [30000 / 60000 (50.000000%)]\t1.593992\n",
      "Train Epoch: 5 [32000 / 60000 (53.333333%)]\t1.567996\n",
      "Train Epoch: 5 [34000 / 60000 (56.666667%)]\t1.530250\n",
      "Train Epoch: 5 [36000 / 60000 (60.000000%)]\t1.493969\n",
      "Train Epoch: 5 [38000 / 60000 (63.333333%)]\t1.535002\n",
      "Train Epoch: 5 [40000 / 60000 (66.666667%)]\t1.566172\n",
      "Train Epoch: 5 [42000 / 60000 (70.000000%)]\t1.587433\n",
      "Train Epoch: 5 [44000 / 60000 (73.333333%)]\t1.551356\n",
      "Train Epoch: 5 [46000 / 60000 (76.666667%)]\t1.593172\n",
      "Train Epoch: 5 [48000 / 60000 (80.000000%)]\t1.555844\n",
      "Train Epoch: 5 [50000 / 60000 (83.333333%)]\t1.544752\n",
      "Train Epoch: 5 [52000 / 60000 (86.666667%)]\t1.547821\n",
      "Train Epoch: 5 [54000 / 60000 (90.000000%)]\t1.517860\n",
      "Train Epoch: 5 [56000 / 60000 (93.333333%)]\t1.521765\n",
      "Train Epoch: 5 [58000 / 60000 (96.666667%)]\t1.545215\n",
      "\n",
      "Test set: Average loss:  0.0150, Accuracy 9608/10000  (96%\n",
      ")\n",
      "Train Epoch: 6 [0 / 60000 (0.000000%)]\t1.558585\n",
      "Train Epoch: 6 [2000 / 60000 (3.333333%)]\t1.473534\n",
      "Train Epoch: 6 [4000 / 60000 (6.666667%)]\t1.579329\n",
      "Train Epoch: 6 [6000 / 60000 (10.000000%)]\t1.516413\n",
      "Train Epoch: 6 [8000 / 60000 (13.333333%)]\t1.499152\n",
      "Train Epoch: 6 [10000 / 60000 (16.666667%)]\t1.550033\n",
      "Train Epoch: 6 [12000 / 60000 (20.000000%)]\t1.560160\n",
      "Train Epoch: 6 [14000 / 60000 (23.333333%)]\t1.526676\n",
      "Train Epoch: 6 [16000 / 60000 (26.666667%)]\t1.550371\n",
      "Train Epoch: 6 [18000 / 60000 (30.000000%)]\t1.529808\n",
      "Train Epoch: 6 [20000 / 60000 (33.333333%)]\t1.526373\n",
      "Train Epoch: 6 [22000 / 60000 (36.666667%)]\t1.541319\n",
      "Train Epoch: 6 [24000 / 60000 (40.000000%)]\t1.553159\n",
      "Train Epoch: 6 [26000 / 60000 (43.333333%)]\t1.574020\n",
      "Train Epoch: 6 [28000 / 60000 (46.666667%)]\t1.505840\n",
      "Train Epoch: 6 [30000 / 60000 (50.000000%)]\t1.528849\n",
      "Train Epoch: 6 [32000 / 60000 (53.333333%)]\t1.511815\n",
      "Train Epoch: 6 [34000 / 60000 (56.666667%)]\t1.501354\n",
      "Train Epoch: 6 [36000 / 60000 (60.000000%)]\t1.567074\n",
      "Train Epoch: 6 [38000 / 60000 (63.333333%)]\t1.510703\n",
      "Train Epoch: 6 [40000 / 60000 (66.666667%)]\t1.558924\n",
      "Train Epoch: 6 [42000 / 60000 (70.000000%)]\t1.497773\n",
      "Train Epoch: 6 [44000 / 60000 (73.333333%)]\t1.537026\n",
      "Train Epoch: 6 [46000 / 60000 (76.666667%)]\t1.536528\n",
      "Train Epoch: 6 [48000 / 60000 (80.000000%)]\t1.525168\n",
      "Train Epoch: 6 [50000 / 60000 (83.333333%)]\t1.558152\n",
      "Train Epoch: 6 [52000 / 60000 (86.666667%)]\t1.558807\n",
      "Train Epoch: 6 [54000 / 60000 (90.000000%)]\t1.555637\n",
      "Train Epoch: 6 [56000 / 60000 (93.333333%)]\t1.526465\n",
      "Train Epoch: 6 [58000 / 60000 (96.666667%)]\t1.526709\n",
      "\n",
      "Test set: Average loss:  0.0150, Accuracy 9644/10000  (96%\n",
      ")\n",
      "Train Epoch: 7 [0 / 60000 (0.000000%)]\t1.528898\n",
      "Train Epoch: 7 [2000 / 60000 (3.333333%)]\t1.575549\n",
      "Train Epoch: 7 [4000 / 60000 (6.666667%)]\t1.554655\n",
      "Train Epoch: 7 [6000 / 60000 (10.000000%)]\t1.573036\n",
      "Train Epoch: 7 [8000 / 60000 (13.333333%)]\t1.508295\n",
      "Train Epoch: 7 [10000 / 60000 (16.666667%)]\t1.529313\n",
      "Train Epoch: 7 [12000 / 60000 (20.000000%)]\t1.544679\n",
      "Train Epoch: 7 [14000 / 60000 (23.333333%)]\t1.532735\n",
      "Train Epoch: 7 [16000 / 60000 (26.666667%)]\t1.520068\n",
      "Train Epoch: 7 [18000 / 60000 (30.000000%)]\t1.539314\n",
      "Train Epoch: 7 [20000 / 60000 (33.333333%)]\t1.515250\n",
      "Train Epoch: 7 [22000 / 60000 (36.666667%)]\t1.546381\n",
      "Train Epoch: 7 [24000 / 60000 (40.000000%)]\t1.535856\n",
      "Train Epoch: 7 [26000 / 60000 (43.333333%)]\t1.548846\n",
      "Train Epoch: 7 [28000 / 60000 (46.666667%)]\t1.565530\n",
      "Train Epoch: 7 [30000 / 60000 (50.000000%)]\t1.548588\n",
      "Train Epoch: 7 [32000 / 60000 (53.333333%)]\t1.534503\n",
      "Train Epoch: 7 [34000 / 60000 (56.666667%)]\t1.533467\n",
      "Train Epoch: 7 [36000 / 60000 (60.000000%)]\t1.592773\n",
      "Train Epoch: 7 [38000 / 60000 (63.333333%)]\t1.526033\n",
      "Train Epoch: 7 [40000 / 60000 (66.666667%)]\t1.514705\n",
      "Train Epoch: 7 [42000 / 60000 (70.000000%)]\t1.561243\n",
      "Train Epoch: 7 [44000 / 60000 (73.333333%)]\t1.559655\n",
      "Train Epoch: 7 [46000 / 60000 (76.666667%)]\t1.551321\n",
      "Train Epoch: 7 [48000 / 60000 (80.000000%)]\t1.571236\n",
      "Train Epoch: 7 [50000 / 60000 (83.333333%)]\t1.569993\n",
      "Train Epoch: 7 [52000 / 60000 (86.666667%)]\t1.565976\n",
      "Train Epoch: 7 [54000 / 60000 (90.000000%)]\t1.565832\n",
      "Train Epoch: 7 [56000 / 60000 (93.333333%)]\t1.552485\n",
      "Train Epoch: 7 [58000 / 60000 (96.666667%)]\t1.509951\n",
      "\n",
      "Test set: Average loss:  0.0149, Accuracy 9668/10000  (97%\n",
      ")\n",
      "Train Epoch: 8 [0 / 60000 (0.000000%)]\t1.519067\n",
      "Train Epoch: 8 [2000 / 60000 (3.333333%)]\t1.550010\n",
      "Train Epoch: 8 [4000 / 60000 (6.666667%)]\t1.526647\n",
      "Train Epoch: 8 [6000 / 60000 (10.000000%)]\t1.509306\n",
      "Train Epoch: 8 [8000 / 60000 (13.333333%)]\t1.523458\n",
      "Train Epoch: 8 [10000 / 60000 (16.666667%)]\t1.568369\n",
      "Train Epoch: 8 [12000 / 60000 (20.000000%)]\t1.540398\n",
      "Train Epoch: 8 [14000 / 60000 (23.333333%)]\t1.517654\n",
      "Train Epoch: 8 [16000 / 60000 (26.666667%)]\t1.491251\n",
      "Train Epoch: 8 [18000 / 60000 (30.000000%)]\t1.560891\n",
      "Train Epoch: 8 [20000 / 60000 (33.333333%)]\t1.532503\n",
      "Train Epoch: 8 [22000 / 60000 (36.666667%)]\t1.531379\n",
      "Train Epoch: 8 [24000 / 60000 (40.000000%)]\t1.548090\n",
      "Train Epoch: 8 [26000 / 60000 (43.333333%)]\t1.535516\n",
      "Train Epoch: 8 [28000 / 60000 (46.666667%)]\t1.579541\n",
      "Train Epoch: 8 [30000 / 60000 (50.000000%)]\t1.548738\n",
      "Train Epoch: 8 [32000 / 60000 (53.333333%)]\t1.541859\n",
      "Train Epoch: 8 [34000 / 60000 (56.666667%)]\t1.487095\n",
      "Train Epoch: 8 [36000 / 60000 (60.000000%)]\t1.522389\n",
      "Train Epoch: 8 [38000 / 60000 (63.333333%)]\t1.518902\n",
      "Train Epoch: 8 [40000 / 60000 (66.666667%)]\t1.520167\n",
      "Train Epoch: 8 [42000 / 60000 (70.000000%)]\t1.485131\n",
      "Train Epoch: 8 [44000 / 60000 (73.333333%)]\t1.547209\n",
      "Train Epoch: 8 [46000 / 60000 (76.666667%)]\t1.519080\n",
      "Train Epoch: 8 [48000 / 60000 (80.000000%)]\t1.517228\n",
      "Train Epoch: 8 [50000 / 60000 (83.333333%)]\t1.490105\n",
      "Train Epoch: 8 [52000 / 60000 (86.666667%)]\t1.576641\n",
      "Train Epoch: 8 [54000 / 60000 (90.000000%)]\t1.574250\n",
      "Train Epoch: 8 [56000 / 60000 (93.333333%)]\t1.539020\n",
      "Train Epoch: 8 [58000 / 60000 (96.666667%)]\t1.535462\n",
      "\n",
      "Test set: Average loss:  0.0149, Accuracy 9696/10000  (97%\n",
      ")\n",
      "Train Epoch: 9 [0 / 60000 (0.000000%)]\t1.533049\n",
      "Train Epoch: 9 [2000 / 60000 (3.333333%)]\t1.505842\n",
      "Train Epoch: 9 [4000 / 60000 (6.666667%)]\t1.570736\n",
      "Train Epoch: 9 [6000 / 60000 (10.000000%)]\t1.559299\n",
      "Train Epoch: 9 [8000 / 60000 (13.333333%)]\t1.544872\n",
      "Train Epoch: 9 [10000 / 60000 (16.666667%)]\t1.538619\n",
      "Train Epoch: 9 [12000 / 60000 (20.000000%)]\t1.505410\n",
      "Train Epoch: 9 [14000 / 60000 (23.333333%)]\t1.520741\n",
      "Train Epoch: 9 [16000 / 60000 (26.666667%)]\t1.511093\n",
      "Train Epoch: 9 [18000 / 60000 (30.000000%)]\t1.530717\n",
      "Train Epoch: 9 [20000 / 60000 (33.333333%)]\t1.547137\n",
      "Train Epoch: 9 [22000 / 60000 (36.666667%)]\t1.524757\n",
      "Train Epoch: 9 [24000 / 60000 (40.000000%)]\t1.568581\n",
      "Train Epoch: 9 [26000 / 60000 (43.333333%)]\t1.523225\n",
      "Train Epoch: 9 [28000 / 60000 (46.666667%)]\t1.521823\n",
      "Train Epoch: 9 [30000 / 60000 (50.000000%)]\t1.509303\n",
      "Train Epoch: 9 [32000 / 60000 (53.333333%)]\t1.544947\n",
      "Train Epoch: 9 [34000 / 60000 (56.666667%)]\t1.483547\n",
      "Train Epoch: 9 [36000 / 60000 (60.000000%)]\t1.498804\n",
      "Train Epoch: 9 [38000 / 60000 (63.333333%)]\t1.508475\n",
      "Train Epoch: 9 [40000 / 60000 (66.666667%)]\t1.509071\n",
      "Train Epoch: 9 [42000 / 60000 (70.000000%)]\t1.529879\n",
      "Train Epoch: 9 [44000 / 60000 (73.333333%)]\t1.510247\n",
      "Train Epoch: 9 [46000 / 60000 (76.666667%)]\t1.506868\n",
      "Train Epoch: 9 [48000 / 60000 (80.000000%)]\t1.522105\n",
      "Train Epoch: 9 [50000 / 60000 (83.333333%)]\t1.533905\n",
      "Train Epoch: 9 [52000 / 60000 (86.666667%)]\t1.523181\n",
      "Train Epoch: 9 [54000 / 60000 (90.000000%)]\t1.524771\n",
      "Train Epoch: 9 [56000 / 60000 (93.333333%)]\t1.518265\n",
      "Train Epoch: 9 [58000 / 60000 (96.666667%)]\t1.536230\n",
      "\n",
      "Test set: Average loss:  0.0149, Accuracy 9715/10000  (97%\n",
      ")\n",
      "Train Epoch: 10 [0 / 60000 (0.000000%)]\t1.505332\n",
      "Train Epoch: 10 [2000 / 60000 (3.333333%)]\t1.554961\n",
      "Train Epoch: 10 [4000 / 60000 (6.666667%)]\t1.536501\n",
      "Train Epoch: 10 [6000 / 60000 (10.000000%)]\t1.523151\n",
      "Train Epoch: 10 [8000 / 60000 (13.333333%)]\t1.543911\n",
      "Train Epoch: 10 [10000 / 60000 (16.666667%)]\t1.511843\n",
      "Train Epoch: 10 [12000 / 60000 (20.000000%)]\t1.515110\n",
      "Train Epoch: 10 [14000 / 60000 (23.333333%)]\t1.552976\n",
      "Train Epoch: 10 [16000 / 60000 (26.666667%)]\t1.518217\n",
      "Train Epoch: 10 [18000 / 60000 (30.000000%)]\t1.561020\n",
      "Train Epoch: 10 [20000 / 60000 (33.333333%)]\t1.495081\n",
      "Train Epoch: 10 [22000 / 60000 (36.666667%)]\t1.522313\n",
      "Train Epoch: 10 [24000 / 60000 (40.000000%)]\t1.556808\n",
      "Train Epoch: 10 [26000 / 60000 (43.333333%)]\t1.464983\n",
      "Train Epoch: 10 [28000 / 60000 (46.666667%)]\t1.532237\n",
      "Train Epoch: 10 [30000 / 60000 (50.000000%)]\t1.531205\n",
      "Train Epoch: 10 [32000 / 60000 (53.333333%)]\t1.532278\n",
      "Train Epoch: 10 [34000 / 60000 (56.666667%)]\t1.516383\n",
      "Train Epoch: 10 [36000 / 60000 (60.000000%)]\t1.528735\n",
      "Train Epoch: 10 [38000 / 60000 (63.333333%)]\t1.527268\n",
      "Train Epoch: 10 [40000 / 60000 (66.666667%)]\t1.498310\n",
      "Train Epoch: 10 [42000 / 60000 (70.000000%)]\t1.493286\n",
      "Train Epoch: 10 [44000 / 60000 (73.333333%)]\t1.538756\n",
      "Train Epoch: 10 [46000 / 60000 (76.666667%)]\t1.545551\n",
      "Train Epoch: 10 [48000 / 60000 (80.000000%)]\t1.497519\n",
      "Train Epoch: 10 [50000 / 60000 (83.333333%)]\t1.546040\n",
      "Train Epoch: 10 [52000 / 60000 (86.666667%)]\t1.517146\n",
      "Train Epoch: 10 [54000 / 60000 (90.000000%)]\t1.523287\n",
      "Train Epoch: 10 [56000 / 60000 (93.333333%)]\t1.502960\n",
      "Train Epoch: 10 [58000 / 60000 (96.666667%)]\t1.530719\n",
      "\n",
      "Test set: Average loss:  0.0149, Accuracy 9746/10000  (97%\n",
      ")\n"
     ]
    }
   ],
   "source": [
    "for epoch in range(1, 11):\n",
    "    train(epoch)\n",
    "    test()"
   ]
  },
  {
   "cell_type": "markdown",
   "id": "e24fed1d-4c45-423c-acab-ecc688ecc013",
   "metadata": {},
   "source": [
    "### Checking the Device that is being used"
   ]
  },
  {
   "cell_type": "code",
   "execution_count": 15,
   "id": "cdb08949-7e43-4597-980b-fdcb7231ad3b",
   "metadata": {},
   "outputs": [
    {
     "data": {
      "text/plain": [
       "device(type='cpu')"
      ]
     },
     "execution_count": 15,
     "metadata": {},
     "output_type": "execute_result"
    }
   ],
   "source": [
    "device"
   ]
  },
  {
   "cell_type": "markdown",
   "id": "fb709238-6e2c-431e-920e-e4dfe61f76e6",
   "metadata": {},
   "source": [
    "## Visualizing the Machine Learning Model"
   ]
  },
  {
   "cell_type": "code",
   "execution_count": 17,
   "id": "b7e21b88-0f5e-4799-9035-bdba05d69493",
   "metadata": {},
   "outputs": [
    {
     "name": "stdout",
     "output_type": "stream",
     "text": [
      "Prediction: 9\n"
     ]
    },
    {
     "data": {
      "text/plain": [
       "<matplotlib.image.AxesImage at 0x1fd77e19650>"
      ]
     },
     "execution_count": 17,
     "metadata": {},
     "output_type": "execute_result"
    },
    {
     "data": {
      "image/png": "[encoded data removed]",
      "text/plain": [
       "<Figure size 640x480 with 1 Axes>"
      ]
     },
     "metadata": {},
     "output_type": "display_data"
    }
   ],
   "source": [
    "import matplotlib.pyplot as plt\n",
    "model.eval()\n",
    "data, target = test_data[0]\n",
    "data = data.unsqueeze(0).to(device)\n",
    "output = model(data)\n",
    "prediction = output.argmax(dim=1, keepdim=True).item()\n",
    "print(f\"Prediction: {prediction}\")\n",
    "image = data.squeeze(0).squeeze(0).cpu().numpy()\n",
    "\n",
    "plt.imshow(image)"
   ]
  },
  {
   "cell_type": "code",
   "execution_count": null,
   "id": "4f848c3c-7131-488a-97b8-43e6b7ac326e",
   "metadata": {},
   "outputs": [],
   "source": []
  }
 ],
 "metadata": {
  "kernelspec": {
   "display_name": "Python 3 (ipykernel)",
   "language": "python",
   "name": "python3"
  },
  "language_info": {
   "codemirror_mode": {
    "name": "ipython",
    "version": 3
   },
   "file_extension": ".py",
   "mimetype": "text/x-python",
   "name": "python",
   "nbconvert_exporter": "python",
   "pygments_lexer": "ipython3",
   "version": "3.11.3"
  }
 },
 "nbformat": 4,
 "nbformat_minor": 5
}
